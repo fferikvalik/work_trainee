{
 "cells": [
  {
   "cell_type": "markdown",
   "id": "d3df79dd",
   "metadata": {},
   "source": [
    "## Упражнения по библиотеке Numpy"
   ]
  },
  {
   "cell_type": "code",
   "execution_count": 1,
   "id": "76b9c43b",
   "metadata": {},
   "outputs": [],
   "source": [
    "import numpy as np"
   ]
  },
  {
   "cell_type": "markdown",
   "id": "03727b7c",
   "metadata": {},
   "source": [
    "**1.** Дан случайный массив, поменять знак у элементов, значения которых между 3 и 8"
   ]
  },
  {
   "cell_type": "code",
   "execution_count": 9,
   "id": "b89a7523",
   "metadata": {},
   "outputs": [
    {
     "name": "stdout",
     "output_type": "stream",
     "text": [
      "Исходный массив: [9 9 2 3 0 8 4 6 6 3]\n",
      "Массив после изменения знака: [ 9  9  2  3  0  8 -4 -6 -6  3]\n"
     ]
    }
   ],
   "source": [
    "import numpy as np\n",
    "\n",
    "# Создаём случайный массив\n",
    "arr = np.random.randint(0, 10, 10)\n",
    "print(\"Исходный массив:\", arr)\n",
    "\n",
    "# Меняем знак у элементов между 3 и 8\n",
    "mask = (arr > 3) & (arr < 8)\n",
    "arr[mask] = -arr[mask]\n",
    "print(\"Массив после изменения знака:\", arr)"
   ]
  },
  {
   "cell_type": "markdown",
   "id": "5fa4abda",
   "metadata": {},
   "source": [
    "**2.** Заменить максимальный элемент случайного массива на 0"
   ]
  },
  {
   "cell_type": "code",
   "execution_count": 12,
   "id": "f2788a6e",
   "metadata": {},
   "outputs": [
    {
     "name": "stdout",
     "output_type": "stream",
     "text": [
      "Исходный массив: [ 5 11  9  1  6  1 18 13  2 12]\n",
      "Массив после замены максимального элемента: [ 5 11  9  1  6  1  0 13  2 12]\n"
     ]
    }
   ],
   "source": [
    "import numpy as np\n",
    "\n",
    "# Создаём случайный массив\n",
    "arr = np.random.randint(0, 20, 10)\n",
    "print(\"Исходный массив:\", arr)\n",
    "\n",
    "# Заменяем максимальный элемент на 0\n",
    "arr[np.argmax(arr)] = 0\n",
    "print(\"Массив после замены максимального элемента:\", arr)"
   ]
  },
  {
   "cell_type": "markdown",
   "id": "3cac656b",
   "metadata": {},
   "source": [
    "**3.** Построить прямое произведение массивов (все комбинации с каждым элементом). На вход подается двумерный массив"
   ]
  },
  {
   "cell_type": "code",
   "execution_count": 13,
   "id": "3396b764",
   "metadata": {},
   "outputs": [
    {
     "name": "stdout",
     "output_type": "stream",
     "text": [
      "Исходный массив:\n",
      " [[1 2]\n",
      " [3 4]]\n",
      "Прямое произведение:\n",
      " [[1 3]\n",
      " [2 3]\n",
      " [1 4]\n",
      " [2 4]]\n"
     ]
    }
   ],
   "source": [
    "import numpy as np\n",
    "\n",
    "# Пример двумерного массива\n",
    "arr = np.array([[1, 2], [3, 4]])\n",
    "print(\"Исходный массив:\\n\", arr)\n",
    "\n",
    "# Используем np.meshgrid для создания всех комбинаций\n",
    "x, y = np.meshgrid(arr[0], arr[1])\n",
    "cartesian_product = np.vstack([x.ravel(), y.ravel()]).T\n",
    "print(\"Прямое произведение:\\n\", cartesian_product)"
   ]
  },
  {
   "cell_type": "markdown",
   "id": "674c9354",
   "metadata": {},
   "source": [
    "**4.** Даны 2 массива A (8x3) и B (2x2). Найти строки в A, которые содержат элементы из каждой строки в B, независимо от порядка элементов в B"
   ]
  },
  {
   "cell_type": "code",
   "execution_count": 15,
   "id": "cb664782",
   "metadata": {},
   "outputs": [
    {
     "name": "stdout",
     "output_type": "stream",
     "text": [
      "Массив A:\n",
      " [[1 0 4]\n",
      " [6 5 5]\n",
      " [1 1 2]\n",
      " [5 6 2]\n",
      " [1 7 0]\n",
      " [5 2 5]\n",
      " [2 1 4]\n",
      " [1 5 0]]\n",
      "Массив B:\n",
      " [[9 4]\n",
      " [3 6]]\n",
      "Строки A, содержащие элементы из каждой строки B:\n",
      " []\n"
     ]
    }
   ],
   "source": [
    "import numpy as np\n",
    "\n",
    "# Создаём массивы A (8x3) и B (2x2)\n",
    "A = np.random.randint(0, 10, (8, 3))\n",
    "B = np.random.randint(0, 10, (2, 2))\n",
    "print(\"Массив A:\\n\", A)\n",
    "print(\"Массив B:\\n\", B)\n",
    "\n",
    "# Находим строки A, содержащие элементы из каждой строки B\n",
    "rows = []\n",
    "for i in range(A.shape[0]):\n",
    "    contains_all = True\n",
    "    for b_row in B:\n",
    "        if not np.all(np.isin(b_row, A[i])):\n",
    "            contains_all = False\n",
    "            break\n",
    "    if contains_all:\n",
    "        rows.append(i)\n",
    "\n",
    "result = A[rows]\n",
    "print(\"Строки A, содержащие элементы из каждой строки B:\\n\", result)"
   ]
  },
  {
   "cell_type": "markdown",
   "id": "fa46533b",
   "metadata": {},
   "source": [
    "**5.** Дана 10x3 матрица, найти строки из неравных значений (например строка [2,2,3] остается, строка [3,3,3] удаляется)"
   ]
  },
  {
   "cell_type": "code",
   "execution_count": 18,
   "id": "fa545b23",
   "metadata": {},
   "outputs": [
    {
     "name": "stdout",
     "output_type": "stream",
     "text": [
      "Исходная матрица:\n",
      " [[3 0 0]\n",
      " [4 2 2]\n",
      " [1 2 2]\n",
      " [3 1 2]\n",
      " [2 2 3]\n",
      " [0 2 4]\n",
      " [3 3 3]\n",
      " [2 1 0]\n",
      " [4 0 0]\n",
      " [1 2 3]]\n",
      "Строки с неравными значениями:\n",
      " [[3 0 0]\n",
      " [4 2 2]\n",
      " [1 2 2]\n",
      " [3 1 2]\n",
      " [2 2 3]\n",
      " [0 2 4]\n",
      " [2 1 0]\n",
      " [4 0 0]\n",
      " [1 2 3]]\n"
     ]
    }
   ],
   "source": [
    "import numpy as np\n",
    "\n",
    "# Создаём матрицу 10x3\n",
    "matrix = np.random.randint(0, 5, (10, 3))\n",
    "print(\"Исходная матрица:\\n\", matrix)\n",
    "\n",
    "# Находим строки, где есть неравные значения\n",
    "unequal_rows = matrix[np.apply_along_axis(lambda x: len(np.unique(x)) > 1, 1, matrix)]\n",
    "print(\"Строки с неравными значениями:\\n\", unequal_rows)"
   ]
  },
  {
   "cell_type": "markdown",
   "id": "28f0d116",
   "metadata": {},
   "source": [
    "**6.** Дан двумерный массив. Удалить те строки, которые повторяются"
   ]
  },
  {
   "cell_type": "code",
   "execution_count": 19,
   "id": "83d2c0b7",
   "metadata": {},
   "outputs": [
    {
     "name": "stdout",
     "output_type": "stream",
     "text": [
      "Исходный массив:\n",
      " [[1 2]\n",
      " [3 4]\n",
      " [1 2]\n",
      " [5 6]\n",
      " [3 4]]\n",
      "Массив после удаления дубликатов:\n",
      " [[1 2]\n",
      " [3 4]\n",
      " [5 6]]\n"
     ]
    }
   ],
   "source": [
    "import numpy as np\n",
    "\n",
    "# Пример массива с дубликатами\n",
    "matrix = np.array([[1, 2], [3, 4], [1, 2], [5, 6], [3, 4]])\n",
    "print(\"Исходный массив:\\n\", matrix)\n",
    "\n",
    "# Удаляем дубликаты\n",
    "unique_matrix = np.unique(matrix, axis=0)\n",
    "print(\"Массив после удаления дубликатов:\\n\", unique_matrix)"
   ]
  },
  {
   "cell_type": "markdown",
   "id": "6daa9e37",
   "metadata": {},
   "source": [
    "______\n",
    "______"
   ]
  },
  {
   "cell_type": "markdown",
   "id": "cfbfcaff",
   "metadata": {},
   "source": [
    "Для каждой из следующих задач (1-5) нужно привести 2 реализации – одна без использования numpy (cчитайте, что там, где на входе или выходе должны быть numpy array, будут просто списки), а вторая полностью векторизованная с использованием numpy (без использования питоновских циклов/map/list comprehension).\n",
    "\n",
    "\n",
    "__Замечание 1.__ Можно считать, что все указанные объекты непустые (к примеру, в __задаче 1__ на диагонали матрицы есть ненулевые элементы).\n",
    "\n",
    "__Замечание 2.__ Для большинства задач решение занимает не больше 1-2 строк."
   ]
  },
  {
   "cell_type": "markdown",
   "id": "673cac7f",
   "metadata": {},
   "source": [
    "___"
   ]
  },
  {
   "cell_type": "markdown",
   "id": "ca6f585e",
   "metadata": {},
   "source": [
    "* __Задача 1__: Подсчитать произведение ненулевых элементов на диагонали прямоугольной матрицы.  \n",
    " Например, для X = np.array([[1, 0, 1], [2, 0, 2], [3, 0, 3], [4, 4, 4]]) ответ 3."
   ]
  },
  {
   "cell_type": "code",
   "execution_count": 33,
   "id": "065862fc",
   "metadata": {},
   "outputs": [
    {
     "name": "stdout",
     "output_type": "stream",
     "text": [
      "Произведение без NumPy: 3\n",
      "Произведение с NumPy: 3\n"
     ]
    }
   ],
   "source": [
    "import numpy as np\n",
    "\n",
    "# Пример матрицы\n",
    "X = np.array([[1, 0, 1], [2, 0, 2], [3, 0, 3], [4, 4, 4]])\n",
    "\n",
    "# Без NumPy\n",
    "X_list = X.tolist()\n",
    "diagonal = [X_list[i][i] for i in range(min(len(X_list), len(X_list[0])))]  # Учитываем минимальную размерность\n",
    "product_no_numpy = 1\n",
    "for num in diagonal:\n",
    "    if num != 0:\n",
    "        product_no_numpy *= num\n",
    "print(\"Произведение без NumPy:\", product_no_numpy)\n",
    "\n",
    "# С NumPy\n",
    "diagonal_numpy = np.diagonal(X)\n",
    "product_numpy = np.prod(diagonal_numpy[diagonal_numpy != 0])\n",
    "print(\"Произведение с NumPy:\", product_numpy)"
   ]
  },
  {
   "cell_type": "markdown",
   "id": "9fc51d41",
   "metadata": {},
   "source": [
    "* __Задача 2__: Даны два вектора x и y. Проверить, задают ли они одно и то же мультимножество.  \n",
    "  Например, для x = np.array([1, 2, 2, 4]), y = np.array([4, 2, 1, 2]) ответ True."
   ]
  },
  {
   "cell_type": "code",
   "execution_count": 21,
   "id": "a809e02f",
   "metadata": {},
   "outputs": [
    {
     "name": "stdout",
     "output_type": "stream",
     "text": [
      "Мультимножества одинаковы (без NumPy): True\n",
      "Мультимножества одинаковы (с NumPy): True\n"
     ]
    }
   ],
   "source": [
    "import numpy as np\n",
    "\n",
    "# Пример векторов\n",
    "x = np.array([1, 2, 2, 4])\n",
    "y = np.array([4, 2, 1, 2])\n",
    "\n",
    "# Без NumPy\n",
    "x_list, y_list = x.tolist(), y.tolist()\n",
    "x_sorted, y_sorted = sorted(x_list), sorted(y_list)\n",
    "is_same_no_numpy = x_sorted == y_sorted\n",
    "print(\"Мультимножества одинаковы (без NumPy):\", is_same_no_numpy)\n",
    "\n",
    "# С NumPy\n",
    "is_same_numpy = np.array_equal(np.sort(x), np.sort(y))\n",
    "print(\"Мультимножества одинаковы (с NumPy):\", is_same_numpy)"
   ]
  },
  {
   "cell_type": "markdown",
   "id": "b9c185c7",
   "metadata": {},
   "source": [
    "* __Задача 3__: Найти максимальный элемент в векторе x среди элементов, перед которыми стоит ноль. \n",
    " Например, для x = np.array([6, 2, 0, 3, 0, 0, 5, 7, 0]) ответ 5."
   ]
  },
  {
   "cell_type": "code",
   "execution_count": 22,
   "id": "b57df008",
   "metadata": {},
   "outputs": [
    {
     "name": "stdout",
     "output_type": "stream",
     "text": [
      "Максимальный элемент после нуля (без NumPy): 5\n",
      "Максимальный элемент после нуля (с NumPy): 5\n"
     ]
    }
   ],
   "source": [
    "import numpy as np\n",
    "\n",
    "# Пример вектора\n",
    "x = np.array([6, 2, 0, 3, 0, 0, 5, 7, 0])\n",
    "\n",
    "# Без NumPy\n",
    "x_list = x.tolist()\n",
    "candidates = []\n",
    "for i in range(1, len(x_list)):\n",
    "    if x_list[i-1] == 0:\n",
    "        candidates.append(x_list[i])\n",
    "max_after_zero_no_numpy = max(candidates) if candidates else None\n",
    "print(\"Максимальный элемент после нуля (без NumPy):\", max_after_zero_no_numpy)\n",
    "\n",
    "# С NumPy\n",
    "zero_indices = np.where(x[:-1] == 0)[0]\n",
    "candidates_numpy = x[zero_indices + 1]\n",
    "max_after_zero_numpy = np.max(candidates_numpy) if candidates_numpy.size > 0 else None\n",
    "print(\"Максимальный элемент после нуля (с NumPy):\", max_after_zero_numpy)"
   ]
  },
  {
   "cell_type": "markdown",
   "id": "480be4ce",
   "metadata": {},
   "source": [
    "* __Задача 4__: Реализовать кодирование длин серий (Run-length encoding). Для некоторого вектора x необходимо вернуть кортеж из двух векторов одинаковой длины. Первый содержит числа, а второй - сколько раз их нужно повторить.  \n",
    " Например, для x = np.array([2, 2, 2, 3, 3, 3, 5]) ответ (np.array([2, 3, 5]), np.array([3, 3, 1]))."
   ]
  },
  {
   "cell_type": "code",
   "execution_count": 23,
   "id": "3c592124",
   "metadata": {},
   "outputs": [
    {
     "name": "stdout",
     "output_type": "stream",
     "text": [
      "RLE без NumPy: ([2, 3, 5], [3, 3, 1])\n",
      "RLE с NumPy: (array([2, 3, 5]), array([3, 3, 1]))\n"
     ]
    }
   ],
   "source": [
    "import numpy as np\n",
    "\n",
    "# Пример вектора\n",
    "x = np.array([2, 2, 2, 3, 3, 3, 5])\n",
    "\n",
    "# Без NumPy\n",
    "x_list = x.tolist()\n",
    "values, counts = [], []\n",
    "current_val = x_list[0]\n",
    "current_count = 1\n",
    "for val in x_list[1:]:\n",
    "    if val == current_val:\n",
    "        current_count += 1\n",
    "    else:\n",
    "        values.append(current_val)\n",
    "        counts.append(current_count)\n",
    "        current_val = val\n",
    "        current_count = 1\n",
    "values.append(current_val)\n",
    "counts.append(current_count)\n",
    "result_no_numpy = (values, counts)\n",
    "print(\"RLE без NumPy:\", result_no_numpy)\n",
    "\n",
    "# С NumPy\n",
    "changes = np.where(np.diff(x) != 0)[0] + 1\n",
    "counts_numpy = np.diff(np.r_[0, changes, x.size])\n",
    "values_numpy = x[np.r_[0, changes]]\n",
    "result_numpy = (values_numpy, counts_numpy)\n",
    "print(\"RLE с NumPy:\", result_numpy)"
   ]
  },
  {
   "cell_type": "markdown",
   "id": "077532ec",
   "metadata": {},
   "source": [
    "* __Задача 5__: Даны две выборки объектов - X и Y. Вычислить матрицу евклидовых расстояний между объектами. Сравните с функцией scipy.spatial.distance.cdist по скорости работы."
   ]
  },
  {
   "cell_type": "code",
   "execution_count": 24,
   "id": "1e807797",
   "metadata": {},
   "outputs": [
    {
     "name": "stdout",
     "output_type": "stream",
     "text": [
      "Евклидовы расстояния без NumPy:\n",
      " [[0.9972328  0.19436661 0.59965402]\n",
      " [0.54986388 0.4455876  0.19573324]\n",
      " [0.9000341  0.35114788 0.55473109]\n",
      " [0.77336433 0.85830707 0.55251881]\n",
      " [0.48184344 0.88058545 0.44160325]]\n",
      "Евклидовы расстояния с NumPy:\n",
      " [[0.9972328  0.19436661 0.59965402]\n",
      " [0.54986388 0.4455876  0.19573324]\n",
      " [0.9000341  0.35114788 0.55473109]\n",
      " [0.77336433 0.85830707 0.55251881]\n",
      " [0.48184344 0.88058545 0.44160325]]\n",
      "Время с NumPy: 0.00014019012451171875\n",
      "Евклидовы расстояния с cdist:\n",
      " [[0.9972328  0.19436661 0.59965402]\n",
      " [0.54986388 0.4455876  0.19573324]\n",
      " [0.9000341  0.35114788 0.55473109]\n",
      " [0.77336433 0.85830707 0.55251881]\n",
      " [0.48184344 0.88058545 0.44160325]]\n",
      "Время с cdist: 0.00011920928955078125\n"
     ]
    }
   ],
   "source": [
    "import numpy as np\n",
    "from scipy.spatial.distance import cdist\n",
    "import time\n",
    "\n",
    "# Пример данных\n",
    "X = np.random.rand(5, 3)\n",
    "Y = np.random.rand(3, 3)\n",
    "\n",
    "# Без NumPy\n",
    "X_list, Y_list = X.tolist(), Y.tolist()\n",
    "distances_no_numpy = []\n",
    "for x in X_list:\n",
    "    row = []\n",
    "    for y in Y_list:\n",
    "        dist = sum((xi - yi) ** 2 for xi, yi in zip(x, y)) ** 0.5\n",
    "        row.append(dist)\n",
    "    distances_no_numpy.append(row)\n",
    "distances_no_numpy = np.array(distances_no_numpy)\n",
    "print(\"Евклидовы расстояния без NumPy:\\n\", distances_no_numpy)\n",
    "\n",
    "# С NumPy\n",
    "start_time_numpy = time.time()\n",
    "distances_numpy = np.sqrt(((X[:, np.newaxis] - Y) ** 2).sum(axis=2))\n",
    "numpy_time = time.time() - start_time_numpy\n",
    "print(\"Евклидовы расстояния с NumPy:\\n\", distances_numpy)\n",
    "print(\"Время с NumPy:\", numpy_time)\n",
    "\n",
    "# Сравнение с cdist\n",
    "start_time_cdist = time.time()\n",
    "distances_cdist = cdist(X, Y, metric='euclidean')\n",
    "cdist_time = time.time() - start_time_cdist\n",
    "print(\"Евклидовы расстояния с cdist:\\n\", distances_cdist)\n",
    "print(\"Время с cdist:\", cdist_time)"
   ]
  },
  {
   "cell_type": "markdown",
   "id": "973e8064",
   "metadata": {},
   "source": [
    "_______\n",
    "________"
   ]
  },
  {
   "cell_type": "markdown",
   "id": "1104acb7",
   "metadata": {},
   "source": [
    "* #### __Задача 6__: CrunchieMunchies __*__\n",
    "\n",
    "Вы работаете в отделе маркетинга пищевой компании MyCrunch, которая разрабатывает новый вид вкусных, полезных злаков под названием **CrunchieMunchies**.\n",
    "\n",
    "Вы хотите продемонстрировать потребителям, насколько полезны ваши хлопья по сравнению с другими ведущими брендами, поэтому вы собрали данные о питании нескольких разных конкурентов.\n",
    "\n",
    "Ваша задача - использовать вычисления Numpy для анализа этих данных и доказать, что ваши **СrunchieMunchies** - самый здоровый выбор для потребителей.\n"
   ]
  },
  {
   "cell_type": "code",
   "execution_count": 25,
   "id": "10a77f8d",
   "metadata": {},
   "outputs": [],
   "source": [
    "import numpy as np"
   ]
  },
  {
   "cell_type": "markdown",
   "id": "ab87cb03",
   "metadata": {},
   "source": [
    "1. Просмотрите файл cereal.csv. Этот файл содержит количества калорий для различных марок хлопьев. Загрузите данные из файла и сохраните их как calorie_stats."
   ]
  },
  {
   "cell_type": "code",
   "execution_count": 170,
   "id": "9681ebf2",
   "metadata": {},
   "outputs": [
    {
     "data": {
      "text/plain": [
       "array([ 70., 120.,  70.,  50., 110., 110., 110., 130.,  90.,  90., 120.,\n",
       "       110., 120., 110., 110., 110., 100., 110., 110., 110., 100., 110.,\n",
       "       100., 100., 110., 110., 100., 120., 120., 110., 100., 110., 100.,\n",
       "       110., 120., 120., 110., 110., 110., 140., 110., 100., 110., 100.,\n",
       "       150., 150., 160., 100., 120., 140.,  90., 130., 120., 100.,  50.,\n",
       "        50., 100., 100., 120., 100.,  90., 110., 110.,  80.,  90.,  90.,\n",
       "       110., 110.,  90., 110., 140., 100., 110., 110., 100., 100., 110.])"
      ]
     },
     "execution_count": 170,
     "metadata": {},
     "output_type": "execute_result"
    }
   ],
   "source": [
    "calorie_stats = np.loadtxt(\"./data/cereal.csv\", delimiter=\",\")\n",
    "calorie_stats"
   ]
  },
  {
   "cell_type": "markdown",
   "id": "139cfbd8",
   "metadata": {},
   "source": [
    "2. В одной порции CrunchieMunchies содержится 60 калорий. Насколько выше среднее количество калорий у ваших конкурентов?\n",
    "\n",
    "Сохраните ответ в переменной average_calories и распечатайте переменную в терминале"
   ]
  },
  {
   "cell_type": "code",
   "execution_count": 26,
   "id": "7036d240",
   "metadata": {},
   "outputs": [
    {
     "name": "stdout",
     "output_type": "stream",
     "text": [
      "Среднее количество калорий у конкурентов: 106.88\n",
      "Насколько выше, чем у CrunchieMunchies: 46.88\n"
     ]
    }
   ],
   "source": [
    "import numpy as np\n",
    "\n",
    "calorie_stats = np.loadtxt(\"./data/cereal.csv\", delimiter=\",\")\n",
    "crunchie_calories = 60\n",
    "average_calories = np.mean(calorie_stats)\n",
    "difference = average_calories - crunchie_calories\n",
    "print(\"Среднее количество калорий у конкурентов:\", round(average_calories, 2))\n",
    "print(\"Насколько выше, чем у CrunchieMunchies:\", round(difference, 2))"
   ]
  },
  {
   "cell_type": "markdown",
   "id": "b2ddb4cd",
   "metadata": {},
   "source": [
    "3. Корректно ли среднее количество калорий отражает распределение набора данных? Давайте отсортируем данные и посмотрим.\n",
    "\n",
    "Отсортируйте данные и сохраните результат в переменной calorie_stats_sorted. Распечатайте отсортированную информацию"
   ]
  },
  {
   "cell_type": "code",
   "execution_count": 27,
   "id": "46eeb4ed",
   "metadata": {},
   "outputs": [
    {
     "name": "stdout",
     "output_type": "stream",
     "text": [
      "Отсортированные данные: [ 50.  50.  50.  70.  70.  80.  90.  90.  90.  90.  90.  90.  90. 100.\n",
      " 100. 100. 100. 100. 100. 100. 100. 100. 100. 100. 100. 100. 100. 100.\n",
      " 100. 100. 110. 110. 110. 110. 110. 110. 110. 110. 110. 110. 110. 110.\n",
      " 110. 110. 110. 110. 110. 110. 110. 110. 110. 110. 110. 110. 110. 110.\n",
      " 110. 110. 110. 120. 120. 120. 120. 120. 120. 120. 120. 120. 120. 130.\n",
      " 130. 140. 140. 140. 150. 150. 160.]\n"
     ]
    }
   ],
   "source": [
    "import numpy as np\n",
    "\n",
    "calorie_stats = np.loadtxt(\"./data/cereal.csv\", delimiter=\",\")\n",
    "calorie_stats_sorted = np.sort(calorie_stats)\n",
    "print(\"Отсортированные данные:\", calorie_stats_sorted)"
   ]
  },
  {
   "cell_type": "markdown",
   "id": "4dc74116",
   "metadata": {},
   "source": [
    "4. Похоже, что большинство значений выше среднего. Давайте посмотрим, является ли медиана наиболее корректным показателем набора данных.\n",
    "\n",
    "Вычислите медиану набора данных и сохраните свой ответ в median_calories. Выведите медиану, чтобы вы могли видеть, как она сравнивается со средним значением."
   ]
  },
  {
   "cell_type": "code",
   "execution_count": 28,
   "id": "b56627c3",
   "metadata": {},
   "outputs": [
    {
     "name": "stdout",
     "output_type": "stream",
     "text": [
      "Медиана калорий: 110.0\n"
     ]
    }
   ],
   "source": [
    "import numpy as np\n",
    "\n",
    "calorie_stats = np.loadtxt(\"./data/cereal.csv\", delimiter=\",\")\n",
    "median_calories = np.median(calorie_stats)\n",
    "print(\"Медиана калорий:\", median_calories)"
   ]
  },
  {
   "cell_type": "markdown",
   "id": "a63ab72f",
   "metadata": {},
   "source": [
    "5. В то время как медиана показывает, что по крайней мере половина наших значений составляет более 100 калорий, было бы более впечатляюще показать, что значительная часть конкурентов имеет более высокое количество калорий, чем CrunchieMunchies.\n",
    "\n",
    "Рассчитайте различные процентили и распечатайте их, пока не найдете наименьший процентиль, превышающий 60 калорий. Сохраните это значение в переменной nth_percentile."
   ]
  },
  {
   "cell_type": "code",
   "execution_count": 29,
   "id": "fe80ce03",
   "metadata": {},
   "outputs": [
    {
     "name": "stdout",
     "output_type": "stream",
     "text": [
      "Процентили: [ 50.   50.   50.   55.6  70.   70.   75.6  83.2  90.   90.   90.   90.\n",
      "  90.   90.   90.   90.   91.6  99.2 100.  100.  100.  100.  100.  100.\n",
      " 100.  100.  100.  100.  100.  100.  100.  100.  100.  100.  100.  100.\n",
      " 100.  100.  100.  106.4 110.  110.  110.  110.  110.  110.  110.  110.\n",
      " 110.  110.  110.  110.  110.  110.  110.  110.  110.  110.  110.  110.\n",
      " 110.  110.  110.  110.  110.  110.  110.  110.  110.  110.  110.  110.\n",
      " 110.  110.  110.  110.  110.  115.2 120.  120.  120.  120.  120.  120.\n",
      " 120.  120.  120.  120.  120.  120.  124.  130.  130.  136.8 140.  140.\n",
      " 140.  147.2 150.  152.4 160. ]\n",
      "Наименьший процентиль, превышающий 60 калорий: 4\n"
     ]
    }
   ],
   "source": [
    "import numpy as np\n",
    "\n",
    "calorie_stats = np.loadtxt(\"./data/cereal.csv\", delimiter=\",\")\n",
    "percentiles = np.percentile(calorie_stats, np.arange(0, 101, 1))\n",
    "nth_percentile = np.arange(0, 101)[percentiles > 60][0]\n",
    "print(\"Процентили:\", percentiles)\n",
    "print(\"Наименьший процентиль, превышающий 60 калорий:\", nth_percentile)"
   ]
  },
  {
   "cell_type": "markdown",
   "id": "a2a3c5aa",
   "metadata": {},
   "source": [
    "6. Хотя процентиль показывает нам, что у большинства конкурентов количество калорий намного выше, это неудобная концепция для использования в маркетинговых материалах.\n",
    "\n",
    "Вместо этого давайте подсчитаем процент хлопьев, в которых содержится более 60 калорий на порцию. Сохраните свой ответ в переменной more_calories и распечатайте его"
   ]
  },
  {
   "cell_type": "code",
   "execution_count": 30,
   "id": "ade0f6ea",
   "metadata": {},
   "outputs": [
    {
     "name": "stdout",
     "output_type": "stream",
     "text": [
      "Процент хлопьев с более чем 60 калориями: 96.1 %\n"
     ]
    }
   ],
   "source": [
    "import numpy as np\n",
    "\n",
    "calorie_stats = np.loadtxt(\"./data/cereal.csv\", delimiter=\",\")\n",
    "more_calories = np.mean(calorie_stats > 60) * 100\n",
    "print(\"Процент хлопьев с более чем 60 калориями:\", round(more_calories, 2), \"%\")"
   ]
  },
  {
   "cell_type": "markdown",
   "id": "1735d65b",
   "metadata": {},
   "source": [
    "7. Это действительно высокий процент. Это будет очень полезно, когда мы будем продвигать CrunchieMunchies. Но один вопрос заключается в том, насколько велики различия в наборе данных? Можем ли мы сделать обобщение, что в большинстве злаков содержится около 100 калорий или разброс еще больше?\n",
    "\n",
    "Рассчитайте величину отклонения, найдя стандартное отклонение, Сохраните свой ответ в calorie_std и распечатайте на терминале. Как мы можем включить эту ценность в наш анализ?"
   ]
  },
  {
   "cell_type": "code",
   "execution_count": 31,
   "id": "85c8df1f",
   "metadata": {},
   "outputs": [
    {
     "name": "stdout",
     "output_type": "stream",
     "text": [
      "Стандартное отклонение калорий: 19.36\n",
      "Высокое стандартное отклонение говорит о большом разбросе данных.\n"
     ]
    }
   ],
   "source": [
    "import numpy as np\n",
    "\n",
    "calorie_stats = np.loadtxt(\"./data/cereal.csv\", delimiter=\",\")\n",
    "calorie_std = np.std(calorie_stats)\n",
    "print(\"Стандартное отклонение калорий:\", round(calorie_std, 2))\n",
    "print(\"Высокое стандартное отклонение говорит о большом разбросе данных.\")"
   ]
  },
  {
   "cell_type": "markdown",
   "id": "037455c5",
   "metadata": {},
   "source": [
    "8. Напишите короткий абзац, в котором кратко изложите свои выводы и то, как, по вашему мнению, эти данные могут быть использованы в интересах Mycrunch при маркетинге CrunchieMunchies."
   ]
  },
  {
   "cell_type": "code",
   "execution_count": 32,
   "id": "c260fee9",
   "metadata": {},
   "outputs": [
    {
     "name": "stdout",
     "output_type": "stream",
     "text": [
      "\n",
      "CrunchieMunchies с 60 калориями на порцию значительно полезнее большинства конкурентов: 96% хлопьев имеют более 60 калорий, а среднее значение у конкурентов — 107 калорий. Медиана (110 калорий) подтверждает, что более половины конкурентов имеют высокую калорийность. Стандартное отклонение (19.36) показывает большой разброс, но это подчеркивает, что CrunchieMunchies стабильно ниже большинства значений. Эти данные можно использовать в маркетинге, чтобы позиционировать CrunchieMunchies как низкокалорийный и здоровый выбор.\n",
      "\n"
     ]
    }
   ],
   "source": [
    "print(\"\"\"\n",
    "CrunchieMunchies с 60 калориями на порцию значительно полезнее большинства конкурентов: 96% хлопьев имеют более 60 калорий, а среднее значение у конкурентов — 107 калорий. Медиана (110 калорий) подтверждает, что более половины конкурентов имеют высокую калорийность. Стандартное отклонение (19.36) показывает большой разброс, но это подчеркивает, что CrunchieMunchies стабильно ниже большинства значений. Эти данные можно использовать в маркетинге, чтобы позиционировать CrunchieMunchies как низкокалорийный и здоровый выбор.\n",
    "\"\"\")"
   ]
  }
 ],
 "metadata": {
  "kernelspec": {
   "display_name": "Python 3 (task2)",
   "language": "python",
   "name": "task2"
  },
  "language_info": {
   "codemirror_mode": {
    "name": "ipython",
    "version": 3
   },
   "file_extension": ".py",
   "mimetype": "text/x-python",
   "name": "python",
   "nbconvert_exporter": "python",
   "pygments_lexer": "ipython3",
   "version": "3.10.5"
  }
 },
 "nbformat": 4,
 "nbformat_minor": 5
}
